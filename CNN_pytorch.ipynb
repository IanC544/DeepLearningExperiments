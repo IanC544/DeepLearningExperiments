{
 "cells": [
  {
   "cell_type": "code",
   "execution_count": 68,
   "metadata": {},
   "outputs": [
    {
     "name": "stdout",
     "output_type": "stream",
     "text": [
      "cuda:0\n",
      "_CudaDeviceProperties(name='NVIDIA GeForce GTX 1070 Ti', major=6, minor=1, total_memory=8191MB, multi_processor_count=19)\n"
     ]
    }
   ],
   "source": [
    "import matplotlib.pyplot as plt\n",
    "import torch\n",
    "import torch.nn as nn\n",
    "import torch.optim as optim\n",
    "from torchvision import datasets, transforms, utils\n",
    "\n",
    "\n",
    "# check if GPU is available\n",
    "device = torch.device(\"cuda:0\" if torch.cuda.is_available() else \"cpu\")\n",
    "print(device)\n",
    "print(torch.cuda.get_device_properties(0))"
   ]
  },
  {
   "cell_type": "code",
   "execution_count": 3,
   "metadata": {},
   "outputs": [
    {
     "name": "stdout",
     "output_type": "stream",
     "text": [
      "6\n"
     ]
    },
    {
     "data": {
      "image/png": "[encoded data removed]",
      "text/plain": [
       "<Figure size 432x288 with 1 Axes>"
      ]
     },
     "metadata": {
      "needs_background": "light"
     },
     "output_type": "display_data"
    }
   ],
   "source": [
    "CIFAR10 = datasets.CIFAR10('data',transform=transforms.ToTensor())\n",
    "\n",
    "\n",
    "\n",
    "#display the first image in the dataset and its label\n",
    "plt.imshow(CIFAR10.__getitem__(0)[0].permute(1,2,0))\n",
    "print(CIFAR10.__getitem__(0)[1])\n",
    "\n",
    "#split the dataset into training, validation and test sets\n",
    "length_training = CIFAR10.__len__()*0.8\n",
    "length_validation = CIFAR10.__len__()*0.1\n",
    "\n",
    "training = list(CIFAR10)[:int(length_training)]\n",
    "validation = list(CIFAR10)[int(length_training):int(length_training+length_validation)]\n",
    "test = list(CIFAR10)[int(length_training+length_validation):]"
   ]
  },
  {
   "cell_type": "code",
   "execution_count": 7,
   "metadata": {},
   "outputs": [
    {
     "data": {
      "image/png": "[encoded data removed]",
      "text/plain": [
       "<Figure size 432x288 with 1 Axes>"
      ]
     },
     "metadata": {
      "needs_background": "light"
     },
     "output_type": "display_data"
    }
   ],
   "source": [
    "\n",
    "#plot the dirtribution of the labels in the training set\n",
    "labels = [x[1] for x in training]\n",
    "plt.hist(labels,bins=10)\n",
    "plt.show()"
   ]
  },
  {
   "cell_type": "markdown",
   "metadata": {},
   "source": [
    "We cam see that we are wroking with a very balanced data set."
   ]
  },
  {
   "cell_type": "markdown",
   "metadata": {},
   "source": [
    "Models in PyTorch\n",
    "We'll train a convolutional neural network."
   ]
  },
  {
   "cell_type": "code",
   "execution_count": 11,
   "metadata": {},
   "outputs": [],
   "source": [
    "class CNN(nn.Module):\n",
    "    def __init__(self):\n",
    "        super(CNN,self).__init__()\n",
    "        self.conv1 = nn.Conv2d(3,6,3).to(device)\n",
    "        self.pool = nn.MaxPool2d(2,2)\n",
    "        self.conv2 = nn.Conv2d(6,16,5).to(device)\n",
    "        self.fc1 = nn.Linear(16*5*5,10).to(device)\n",
    "\n",
    "    def forward(self,x):\n",
    "        x = self.pool(torch.relu(self.conv1(x)))\n",
    "        x = self.pool(torch.relu(self.conv2(x)))\n",
    "        x = x.view(-1,16*5*5)\n",
    "        x = self.fc1(x)\n",
    "        return x\n",
    "\n",
    "\n",
    "def get_accuracy(model,data,train):\n",
    "    model.cuda()\n",
    "    if train:\n",
    "        model.train()\n",
    "    else:\n",
    "        model.eval()\n",
    "    correct = 0\n",
    "    total = 0\n",
    "    for images,labels in data:\n",
    "        images,labels = images.to(device),labels\n",
    "        outputs = model(images.unsqueeze(0))\n",
    "        _,predicted = torch.max(outputs.data,1)\n",
    "        total += 1\n",
    "        correct += (predicted == labels).sum()\n",
    "    return (100*correct/total)\n",
    "\n",
    "\n"
   ]
  },
  {
   "cell_type": "code",
   "execution_count": 27,
   "metadata": {},
   "outputs": [],
   "source": [
    "def train(model, data, validation, batch_size, epochs, learning_rate = 0.01,weight_decay =0,momentum = 0.9):\n",
    "    \"\"\"\n",
    "    :param model: the model to train\n",
    "    :param data: the dataset to train on\n",
    "    :param batch_size: the batch size\n",
    "    :param epochs: the number of epochs\n",
    "    :param learning_rate: the learning rate\n",
    "    :param weight_decay: the weight decay\n",
    "    :param momentum: the momentum\n",
    "    :return: the trained model\n",
    "    \"\"\"\n",
    "    losses = []\n",
    "    iter = []\n",
    "    train_acc = []\n",
    "    val_acc = []    \n",
    "\n",
    "\n",
    "\n",
    "    #define the loss function\n",
    "    criterion = nn.CrossEntropyLoss()\n",
    "    #define the optimizer\n",
    "    optimizer = optim.Adam(model.parameters(),lr=learning_rate,weight_decay=weight_decay)\n",
    "\n",
    "    #images loader\n",
    "    train_loader = torch.utils.data.DataLoader(data,batch_size=batch_size,shuffle=True)\n",
    "\n",
    "    #train the model\n",
    "    for epoch in range(epochs):\n",
    "        for i,(images,labels) in enumerate(train_loader):\n",
    "\n",
    "            #move tensors to GPU\n",
    "            images = images.to(device)\n",
    "            labels = labels.to(device)\n",
    "            \n",
    "            if images.size()[0] < batch_size:\n",
    "                continue\n",
    "\n",
    "            #forward pass\n",
    "            else:\n",
    "                model.train()\n",
    "\n",
    "           \n",
    "                #forward pass\n",
    "                outputs = model(images)\n",
    "                #compute the loss\n",
    "                loss = criterion(outputs,labels)\n",
    "                #backward pass\n",
    "                loss.backward()\n",
    "                #update the weights\n",
    "                optimizer.step()\n",
    "                #clear the gradients\n",
    "                optimizer.zero_grad()\n",
    "\n",
    "                #store current loss\n",
    "                iter.append(i)\n",
    "                losses.append(float(loss)/batch_size)\n",
    "        #print training loss\n",
    "        print(\"Training loss: \",losses[-1])\n",
    "        #compute training accuracy\n",
    "        train_acc.append(get_accuracy(model,data,train=True))\n",
    "        #compute validation accuracy\n",
    "        val_acc.append(get_accuracy(model,validation,train=False))\n",
    "\n",
    "\n",
    "        \n",
    "       \n",
    "\n",
    "    \n",
    "\n",
    "\n",
    "                \n",
    "    return model,losses,iter,train_acc,val_acc\n",
    "    \n",
    "\n",
    "\n"
   ]
  },
  {
   "cell_type": "code",
   "execution_count": 51,
   "metadata": {},
   "outputs": [
    {
     "name": "stdout",
     "output_type": "stream",
     "text": [
      "Training loss:  0.01592793583869934\n",
      "Training loss:  0.01527076005935669\n",
      "Training loss:  0.014277247190475463\n",
      "Training loss:  0.011520674228668213\n",
      "Training loss:  0.01368920087814331\n",
      "Training loss:  0.013647453784942627\n",
      "Training loss:  0.012901455163955688\n",
      "Training loss:  0.015098445415496826\n",
      "Training loss:  0.012233890295028686\n",
      "Training loss:  0.01172808289527893\n"
     ]
    },
    {
     "data": {
      "text/plain": [
       "[tensor(36.9400, device='cuda:0'),\n",
       " tensor(44.6800, device='cuda:0'),\n",
       " tensor(47.5200, device='cuda:0'),\n",
       " tensor(50.5400, device='cuda:0'),\n",
       " tensor(50.6600, device='cuda:0'),\n",
       " tensor(53.4200, device='cuda:0'),\n",
       " tensor(52.8000, device='cuda:0'),\n",
       " tensor(54.5400, device='cuda:0'),\n",
       " tensor(55.4400, device='cuda:0'),\n",
       " tensor(56.5800, device='cuda:0')]"
      ]
     },
     "execution_count": 51,
     "metadata": {},
     "output_type": "execute_result"
    }
   ],
   "source": [
    "model = CNN()\n",
    "\n",
    "model,losses,iter,train_acc,val_acc = train(model,training,validation,learning_rate=0.001,batch_size=100,epochs=10)\n",
    "\n",
    "val_acc\n",
    "\n"
   ]
  },
  {
   "cell_type": "code",
   "execution_count": 84,
   "metadata": {},
   "outputs": [],
   "source": [
    "#Adding more layers\n",
    "class CNN2(nn.Module):\n",
    "    def __init__(self):\n",
    "        super(CNN2,self).__init__()\n",
    "        self.conv1 = nn.Conv2d(3,6,3,padding=1).to(device)\n",
    "        self.bn1 = nn.BatchNorm2d(6).to(device)\n",
    "        self.pool = nn.MaxPool2d(2,2)\n",
    "        self.conv2 = nn.Conv2d(6,16,2,padding=1).to(device)\n",
    "        self.bn2 = nn.BatchNorm2d(16).to(device)\n",
    "        self.conv3 = nn.Conv2d(16,16,2,padding=1).to(device)\n",
    "        self.bn3 = nn.BatchNorm2d(16).to(device)\n",
    "        self.fc1 = nn.Linear(16*9*9,32).to(device)\n",
    "        self.fc2 = nn.Linear(32,10).to(device)\n",
    "\n",
    "    def forward(self,x):\n",
    "        x = self.pool(torch.relu(self.conv1(x)))\n",
    "        #print(x.size())\n",
    "        x = torch.relu(self.conv2(x))\n",
    "        #print(x.size())\n",
    "        x = self.pool(torch.relu(self.conv3(x)))\n",
    "        #print(x.size())\n",
    "        \n",
    "        \n",
    "        x= x.view(-1,16*9*9)\n",
    "        x = self.fc1(x)\n",
    "       \n",
    "        x = self.fc2(x)\n",
    "        return x"
   ]
  },
  {
   "cell_type": "code",
   "execution_count": 85,
   "metadata": {},
   "outputs": [
    {
     "name": "stdout",
     "output_type": "stream",
     "text": [
      "Training loss:  0.015953435897827148\n",
      "Training loss:  0.014709690809249878\n",
      "Training loss:  0.016231139898300172\n",
      "Training loss:  0.013264497518539429\n",
      "Training loss:  0.010751591920852661\n",
      "Training loss:  0.0131999409198761\n",
      "Training loss:  0.009827327728271485\n",
      "Training loss:  0.011649407148361206\n",
      "Training loss:  0.011413370370864867\n",
      "Training loss:  0.011770119667053222\n"
     ]
    },
    {
     "data": {
      "text/plain": [
       "[tensor(41.9800, device='cuda:0'),\n",
       " tensor(46.1400, device='cuda:0'),\n",
       " tensor(50.5200, device='cuda:0'),\n",
       " tensor(52.9000, device='cuda:0'),\n",
       " tensor(55.3000, device='cuda:0'),\n",
       " tensor(56.0600, device='cuda:0'),\n",
       " tensor(56.7600, device='cuda:0'),\n",
       " tensor(55.4600, device='cuda:0'),\n",
       " tensor(59.4800, device='cuda:0'),\n",
       " tensor(60.1600, device='cuda:0')]"
      ]
     },
     "execution_count": 85,
     "metadata": {},
     "output_type": "execute_result"
    }
   ],
   "source": [
    "model = CNN2()\n",
    "\n",
    "model,losses,iter,train_acc,val_acc = train(model,training,validation,learning_rate=0.001,batch_size=100,epochs=10)\n",
    "\n",
    "val_acc"
   ]
  },
  {
   "cell_type": "markdown",
   "metadata": {},
   "source": [
    "Both model is far from overfitting. "
   ]
  },
  {
   "cell_type": "code",
   "execution_count": 88,
   "metadata": {},
   "outputs": [
    {
     "name": "stdout",
     "output_type": "stream",
     "text": [
      "Training loss:  0.00994070827960968\n",
      "Training loss:  0.00946922242641449\n",
      "Training loss:  0.010766916275024414\n",
      "Training loss:  0.00805833101272583\n",
      "Training loss:  0.008845857977867126\n",
      "Training loss:  0.008772277235984803\n",
      "Training loss:  0.009214840531349182\n",
      "Training loss:  0.006859980225563049\n",
      "Training loss:  0.009334215521812439\n",
      "Training loss:  0.012196717262268066\n"
     ]
    }
   ],
   "source": [
    "#saving the model\n",
    "torch.save(model.state_dict(),'model.pt')\n",
    "\n",
    "#loading the model\n",
    "model.load_state_dict(torch.load('model.pt'))\n",
    "\n",
    "#continuing training\n",
    "model,losses,iter,train_acc,val_acc = train(model,training,validation,learning_rate=0.001,batch_size=100,epochs=10)"
   ]
  }
 ],
 "metadata": {
  "interpreter": {
   "hash": "d9aefc15980085f0d984a09107f14c6da6d8fcfe3bde49de32668b1ca74352a1"
  },
  "kernelspec": {
   "display_name": "Python 3.8.5 64-bit ('base': conda)",
   "language": "python",
   "name": "python3"
  },
  "language_info": {
   "codemirror_mode": {
    "name": "ipython",
    "version": 3
   },
   "file_extension": ".py",
   "mimetype": "text/x-python",
   "name": "python",
   "nbconvert_exporter": "python",
   "pygments_lexer": "ipython3",
   "version": "3.8.5"
  },
  "orig_nbformat": 4
 },
 "nbformat": 4,
 "nbformat_minor": 2
}
