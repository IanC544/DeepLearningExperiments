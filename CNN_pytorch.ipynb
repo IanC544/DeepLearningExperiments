{
 "cells": [
  {
   "cell_type": "code",
   "execution_count": 42,
   "metadata": {},
   "outputs": [
    {
     "name": "stdout",
     "output_type": "stream",
     "text": [
      "cuda:0\n",
      "_CudaDeviceProperties(name='NVIDIA GeForce GTX 1070 Ti', major=6, minor=1, total_memory=8191MB, multi_processor_count=19)\n"
     ]
    }
   ],
   "source": [
    "import matplotlib.pyplot as plt\n",
    "import torch\n",
    "import torch.nn as nn\n",
    "import torch.optim as optim\n",
    "from torchvision import datasets, transforms, utils\n",
    "\n",
    "\n",
    "\n",
    "# check if GPU is available\n",
    "device = torch.device(\"cuda:0\" if torch.cuda.is_available() else \"cpu\")\n",
    "print(device)\n",
    "print(torch.cuda.get_device_properties(0))\n",
    "\n"
   ]
  },
  {
   "cell_type": "code",
   "execution_count": 26,
   "metadata": {},
   "outputs": [
    {
     "name": "stdout",
     "output_type": "stream",
     "text": [
      "6\n"
     ]
    },
    {
     "data": {
      "image/png": "[encoded data removed]",
      "text/plain": [
       "<Figure size 432x288 with 1 Axes>"
      ]
     },
     "metadata": {
      "needs_background": "light"
     },
     "output_type": "display_data"
    }
   ],
   "source": [
    "CIFAR10 = datasets.CIFAR10('data',transform=transforms.ToTensor())\n",
    "\n",
    "\n",
    "\n",
    "#display the first image in the dataset and its label\n",
    "plt.imshow(CIFAR10.__getitem__(0)[0].permute(1,2,0))\n",
    "print(CIFAR10.__getitem__(0)[1])\n",
    "\n",
    "#split the dataset into training, validation and test sets\n",
    "length_training = CIFAR10.__len__()*0.8\n",
    "length_validation = CIFAR10.__len__()*0.1\n",
    "\n",
    "training = list(CIFAR10)[:int(length_training)]\n",
    "validation = list(CIFAR10)[int(length_training):int(length_training+length_validation)]\n",
    "test = list(CIFAR10)[int(length_training+length_validation):]"
   ]
  },
  {
   "cell_type": "code",
   "execution_count": 5,
   "metadata": {},
   "outputs": [
    {
     "data": {
      "image/png": "[encoded data removed]",
      "text/plain": [
       "<Figure size 432x288 with 1 Axes>"
      ]
     },
     "metadata": {
      "needs_background": "light"
     },
     "output_type": "display_data"
    }
   ],
   "source": [
    "\n",
    "#plot the dirtribution of the labels in the training set\n",
    "labels = [x[1] for x in training]\n",
    "plt.hist(labels,bins=10)\n",
    "plt.show()"
   ]
  },
  {
   "cell_type": "markdown",
   "metadata": {},
   "source": [
    "We cam see that we are wroking with a very balanced data set."
   ]
  },
  {
   "cell_type": "markdown",
   "metadata": {},
   "source": [
    "Models in PyTorch\n",
    "We'll train a convolutional neural network."
   ]
  },
  {
   "cell_type": "code",
   "execution_count": 102,
   "metadata": {},
   "outputs": [],
   "source": [
    "class CNN(nn.Module):\n",
    "    def __init__(self):\n",
    "        super(CNN,self).__init__()\n",
    "        self.conv1 = nn.Conv2d(3,6,3)\n",
    "        self.pool = nn.MaxPool2d(2,2)\n",
    "        self.conv2 = nn.Conv2d(6,16,5)\n",
    "        self.fc1 = nn.Linear(16*5*5,10)\n",
    "\n",
    "    def forward(self,x):\n",
    "        x = self.pool(torch.relu(self.conv1(x)))\n",
    "        x = self.pool(torch.relu(self.conv2(x)))\n",
    "        x = x.view(-1,16*5*5)\n",
    "        x = self.fc1(x)\n",
    "        return x\n",
    "\n",
    "\n",
    "def get_accuracy(model,data,train):\n",
    "    model.to(device)\n",
    "    correctly_classified = []\n",
    "    falsely_classified = []\n",
    "\n",
    "    if train:\n",
    "        model.train()\n",
    "    else:\n",
    "        model.eval()\n",
    "    correct = 0\n",
    "    total = 0\n",
    "    for images,labels in data:\n",
    "        images,labels = images.to(device),labels\n",
    "        outputs = model(images.unsqueeze(0))\n",
    "        _,predicted = torch.max(outputs.data,1)\n",
    "        total += 1\n",
    "        correct += (predicted == labels).sum()\n",
    "        if predicted == labels:\n",
    "            correctly_classified.append(images)\n",
    "        else:\n",
    "            falsely_classified.append(images)\n",
    "            \n",
    "    return (100*correct/total),correctly_classified,falsely_classified\n",
    "\n",
    "\n",
    "\n",
    "\n"
   ]
  },
  {
   "cell_type": "code",
   "execution_count": 97,
   "metadata": {},
   "outputs": [],
   "source": [
    "def train(model, data, validation, batch_size, epochs, learning_rate = 0.01,weight_decay =0.2,momentum = 0.05,optimizer = \"Adam\"):\n",
    "    \"\"\"\n",
    "    :param model: the model to train\n",
    "    :param data: the dataset to train on\n",
    "    :param batch_size: the batch size\n",
    "    :param epochs: the number of epochs\n",
    "    :param learning_rate: the learning rate\n",
    "    :param weight_decay: the weight decay\n",
    "    :param momentum: the momentum\n",
    "    :return: the trained model\n",
    "    \"\"\"\n",
    "    losses = []\n",
    "    iter = []\n",
    "\n",
    "    min_val_loss = float(\"inf\")\n",
    "\n",
    "\n",
    "\n",
    "    #define the loss function\n",
    "    criterion = nn.CrossEntropyLoss()\n",
    "    #define the optimizer\n",
    "    if optimizer == \"Adam\":\n",
    "        optimizer = optim.Adam(model.parameters(),lr=learning_rate,weight_decay=weight_decay)\n",
    "    else :\n",
    "        optimizer = optim.SGD(model.parameters(),lr=learning_rate,momentum=momentum,weight_decay=weight_decay)\n",
    "\n",
    "    #images loader\n",
    "    train_loader = torch.utils.data.DataLoader(data,batch_size=batch_size,shuffle=True,num_workers=0)\n",
    "\n",
    "    #train the model\n",
    "    for epoch in range(epochs):\n",
    "        for i,(images,labels) in enumerate(train_loader):\n",
    "\n",
    "            #move tensors to GPU\n",
    "            images = images.to(device)\n",
    "            labels = labels.to(device)\n",
    "            \n",
    "            if images.size()[0] < batch_size:\n",
    "                continue\n",
    "\n",
    "            #forward pass\n",
    "            else:\n",
    "                model = model.to(device)\n",
    "                model.train()\n",
    "\n",
    "           \n",
    "                #forward pass\n",
    "                outputs = model(images)\n",
    "                #compute the loss\n",
    "                loss = criterion(outputs,labels)\n",
    "                #backward pass\n",
    "                loss.backward()\n",
    "                #update the weights\n",
    "                optimizer.step()\n",
    "                #clear the gradients\n",
    "                optimizer.zero_grad()\n",
    "\n",
    "                #store current loss\n",
    "                iter.append(i)\n",
    "                losses.append(float(loss)/batch_size)\n",
    "\n",
    "        val_loader = torch.utils.data.DataLoader(validation,batch_size=batch_size,shuffle=True,num_workers=0)\n",
    "        for i,(images,labels) in enumerate(val_loader):\n",
    "            #move tensors to GPU\n",
    "            images = images.to(device)\n",
    "            labels = labels.to(device)\n",
    "            if images.size()[0] < batch_size:\n",
    "                continue\n",
    "            else:\n",
    "                model = model.to(device)\n",
    "                model.eval()\n",
    "                #forward pass\n",
    "                outputs = model(images)\n",
    "                #compute the loss\n",
    "                loss = criterion(outputs,labels)\n",
    "        val_loss = (float(loss)/batch_size)\n",
    "        print(\"Epoch: {}/{}.. \".format(epoch+1,epochs),\n",
    "              \"Training Loss: {:.3f}.. \".format(losses[-1]),\n",
    "              \"Validation Loss: {:.3f}.. \".format(val_loss))\n",
    "\n",
    "        if val_loss < min_val_loss:\n",
    "            min_val_loss = val_loss\n",
    "            torch.save(model.state_dict(), 'model.ckpt')\n",
    "\n",
    "\n",
    "        \n",
    "        #print training loss\n",
    "        print(\"Training loss: \",losses[-1])\n",
    "\n",
    "\n",
    "\n",
    "\n",
    "        \n",
    "       \n",
    "\n",
    "    \n",
    "\n",
    "\n",
    "                \n",
    "    return model,losses,iter\n",
    "\n",
    "\n"
   ]
  },
  {
   "cell_type": "code",
   "execution_count": 113,
   "metadata": {},
   "outputs": [
    {
     "name": "stdout",
     "output_type": "stream",
     "text": [
      "Epoch: 1/10..  Training Loss: 0.021..  Validation Loss: 0.021.. \n",
      "Training loss:  0.021358890533447264\n",
      "Epoch: 2/10..  Training Loss: 0.020..  Validation Loss: 0.021.. \n",
      "Training loss:  0.020292448997497558\n",
      "Epoch: 3/10..  Training Loss: 0.020..  Validation Loss: 0.021.. \n",
      "Training loss:  0.020270814895629884\n",
      "Epoch: 4/10..  Training Loss: 0.022..  Validation Loss: 0.021.. \n",
      "Training loss:  0.02157583713531494\n",
      "Epoch: 5/10..  Training Loss: 0.020..  Validation Loss: 0.021.. \n",
      "Training loss:  0.020217950344085692\n",
      "Epoch: 6/10..  Training Loss: 0.021..  Validation Loss: 0.020.. \n",
      "Training loss:  0.02090920925140381\n",
      "Epoch: 7/10..  Training Loss: 0.020..  Validation Loss: 0.021.. \n",
      "Training loss:  0.020076239109039308\n",
      "Epoch: 8/10..  Training Loss: 0.022..  Validation Loss: 0.020.. \n",
      "Training loss:  0.021648452281951905\n",
      "Epoch: 9/10..  Training Loss: 0.020..  Validation Loss: 0.021.. \n",
      "Training loss:  0.02046250343322754\n",
      "Epoch: 10/10..  Training Loss: 0.022..  Validation Loss: 0.020.. \n",
      "Training loss:  0.02181826114654541\n"
     ]
    }
   ],
   "source": [
    "model = CNN()\n",
    "\n",
    "model,losses,iter= train(model,training,validation,learning_rate=0.001,batch_size=100,epochs=10)\n",
    "\n",
    "# The model is under fitting, we need to add more layers\n",
    "\n",
    "\n"
   ]
  },
  {
   "cell_type": "code",
   "execution_count": 115,
   "metadata": {},
   "outputs": [],
   "source": [
    "#Adding more layers\n",
    "class CNN2(nn.Module):\n",
    "    def __init__(self):\n",
    "        super(CNN2,self).__init__()\n",
    "        self.conv1 = nn.Conv2d(3,6,3,padding=1).to(device)\n",
    "        self.bn1 = nn.BatchNorm2d(6).to(device)\n",
    "        self.pool = nn.MaxPool2d(2,2)\n",
    "        self.conv2 = nn.Conv2d(6,16,2,padding=1).to(device)\n",
    "        self.bn2 = nn.BatchNorm2d(16).to(device)\n",
    "        self.conv3 = nn.Conv2d(16,16,2,padding=1).to(device)\n",
    "        self.bn3 = nn.BatchNorm2d(16).to(device)\n",
    "        self.fc1 = nn.Linear(16*9*9,32).to(device)\n",
    "        self.fc2 = nn.Linear(32,10).to(device)\n",
    "\n",
    "    def forward(self,x):\n",
    "        x = self.pool(torch.relu(self.conv1(x)))\n",
    "        #print(x.size())\n",
    "        x = torch.relu(self.conv2(x))\n",
    "        #print(x.size())\n",
    "        x = self.pool(torch.relu(self.conv3(x)))\n",
    "        #print(x.size())\n",
    "        \n",
    "        \n",
    "        x= x.view(-1,16*9*9)\n",
    "        x = self.fc1(x)\n",
    "       \n",
    "        x = self.fc2(x)\n",
    "        return x"
   ]
  },
  {
   "cell_type": "code",
   "execution_count": 116,
   "metadata": {},
   "outputs": [
    {
     "name": "stdout",
     "output_type": "stream",
     "text": [
      "Epoch: 1/10..  Training Loss: 0.023..  Validation Loss: 0.023.. \n",
      "Training loss:  0.02302586555480957\n",
      "Epoch: 2/10..  Training Loss: 0.023..  Validation Loss: 0.023.. \n",
      "Training loss:  0.023017499446868896\n",
      "Epoch: 3/10..  Training Loss: 0.023..  Validation Loss: 0.023.. \n",
      "Training loss:  0.023020505905151367\n",
      "Epoch: 4/10..  Training Loss: 0.023..  Validation Loss: 0.023.. \n",
      "Training loss:  0.023026707172393798\n",
      "Epoch: 5/10..  Training Loss: 0.023..  Validation Loss: 0.023.. \n",
      "Training loss:  0.02302748680114746\n",
      "Epoch: 6/10..  Training Loss: 0.023..  Validation Loss: 0.023.. \n",
      "Training loss:  0.02302429437637329\n",
      "Epoch: 7/10..  Training Loss: 0.023..  Validation Loss: 0.023.. \n",
      "Training loss:  0.02301910161972046\n",
      "Epoch: 8/10..  Training Loss: 0.023..  Validation Loss: 0.023.. \n",
      "Training loss:  0.023026301860809326\n",
      "Epoch: 9/10..  Training Loss: 0.023..  Validation Loss: 0.023.. \n",
      "Training loss:  0.02304901123046875\n",
      "Epoch: 10/10..  Training Loss: 0.023..  Validation Loss: 0.023.. \n",
      "Training loss:  0.023027095794677734\n"
     ]
    }
   ],
   "source": [
    "model = CNN2()\n",
    "\n",
    "model,losses,iter = train(model,training,validation,learning_rate=0.001,batch_size=100,epochs=10)\n",
    "\n",
    "# Still the model is under fitting, we need to add more channels to the convolutional layers\n"
   ]
  },
  {
   "cell_type": "code",
   "execution_count": 83,
   "metadata": {},
   "outputs": [],
   "source": [
    "#The previous models were underfitting, so we replace some of the convolutional layers with fully connected layers\n",
    "class CNN3(nn.Module):\n",
    "    def __init__(self):\n",
    "        super(CNN3,self).__init__()\n",
    "        self.conv1 = nn.Conv2d(3,35,3,padding=1)\n",
    "        self.bn1 = nn.BatchNorm2d(35)\n",
    "        self.pool = nn.MaxPool2d(2,2)\n",
    "        self.conv2 = nn.Conv2d(35,70,2,padding=1,stride=1)\n",
    "        self.bn2 = nn.BatchNorm2d(70)\n",
    "        self.fc1 = nn.Linear(70*8*8,32)\n",
    "        self.fc2 = nn.Linear(32,10)\n",
    "\n",
    "    def forward(self,x):\n",
    "        x = self.pool(torch.relu(self.conv1(x)))\n",
    "        x = self.bn1(x)\n",
    "        x = self.pool(torch.relu(self.conv2(x)))\n",
    "        x = self.bn2(x)\n",
    "\n",
    "        x= x.view(-1,70*8*8)\n",
    "        x = self.fc1(x)\n",
    "       \n",
    "        x = self.fc2(x)\n",
    "        return x"
   ]
  },
  {
   "cell_type": "code",
   "execution_count": 85,
   "metadata": {},
   "outputs": [
    {
     "name": "stdout",
     "output_type": "stream",
     "text": [
      "Epoch: 1/20..  Training Loss: 0.011..  Validation Loss: 0.011.. \n",
      "Training loss:  0.01148017168045044\n",
      "Epoch: 2/20..  Training Loss: 0.009..  Validation Loss: 0.012.. \n",
      "Training loss:  0.008724817037582398\n",
      "Epoch: 3/20..  Training Loss: 0.008..  Validation Loss: 0.011.. \n",
      "Training loss:  0.007519466876983643\n",
      "Epoch: 4/20..  Training Loss: 0.006..  Validation Loss: 0.015.. \n",
      "Training loss:  0.006051757335662842\n",
      "Epoch: 5/20..  Training Loss: 0.008..  Validation Loss: 0.007.. \n",
      "Training loss:  0.00799235463142395\n",
      "Epoch: 6/20..  Training Loss: 0.008..  Validation Loss: 0.014.. \n",
      "Training loss:  0.00761126697063446\n",
      "Epoch: 7/20..  Training Loss: 0.008..  Validation Loss: 0.009.. \n",
      "Training loss:  0.007842195630073547\n",
      "Epoch: 8/20..  Training Loss: 0.006..  Validation Loss: 0.012.. \n",
      "Training loss:  0.005597544312477112\n",
      "Epoch: 9/20..  Training Loss: 0.006..  Validation Loss: 0.012.. \n",
      "Training loss:  0.005531213879585266\n",
      "Epoch: 10/20..  Training Loss: 0.004..  Validation Loss: 0.010.. \n",
      "Training loss:  0.0043024498224258426\n",
      "Epoch: 11/20..  Training Loss: 0.005..  Validation Loss: 0.011.. \n",
      "Training loss:  0.005007161498069763\n",
      "Epoch: 12/20..  Training Loss: 0.005..  Validation Loss: 0.014.. \n",
      "Training loss:  0.004918922781944275\n",
      "Epoch: 13/20..  Training Loss: 0.004..  Validation Loss: 0.014.. \n",
      "Training loss:  0.0035903435945510865\n",
      "Epoch: 14/20..  Training Loss: 0.004..  Validation Loss: 0.015.. \n",
      "Training loss:  0.004023303091526031\n",
      "Epoch: 15/20..  Training Loss: 0.006..  Validation Loss: 0.018.. \n",
      "Training loss:  0.005678673386573792\n",
      "Epoch: 16/20..  Training Loss: 0.003..  Validation Loss: 0.019.. \n",
      "Training loss:  0.0034725606441497804\n",
      "Epoch: 17/20..  Training Loss: 0.003..  Validation Loss: 0.014.. \n",
      "Training loss:  0.003292742073535919\n",
      "Epoch: 18/20..  Training Loss: 0.003..  Validation Loss: 0.015.. \n",
      "Training loss:  0.002586109936237335\n",
      "Epoch: 19/20..  Training Loss: 0.001..  Validation Loss: 0.019.. \n",
      "Training loss:  0.0014115361869335174\n",
      "Epoch: 20/20..  Training Loss: 0.003..  Validation Loss: 0.017.. \n",
      "Training loss:  0.0030937302112579346\n"
     ]
    }
   ],
   "source": [
    "# Train the third model\n",
    "model = CNN3()\n",
    "model,losses,iter = train(model,training,validation,learning_rate=0.001,batch_size=100,epochs=20)\n",
    "\n",
    "#The model is clearly overfitting, so we will add more convolutional layers"
   ]
  },
  {
   "cell_type": "code",
   "execution_count": 95,
   "metadata": {},
   "outputs": [],
   "source": [
    "class CNN4(nn.Module):\n",
    "    def __init__(self):\n",
    "        super(CNN4,self).__init__()\n",
    "        self.conv1 = nn.Conv2d(3,35,3,padding=1)\n",
    "        self.bn1 = nn.BatchNorm2d(35)\n",
    "        self.pool = nn.MaxPool2d(2,2)\n",
    "        self.conv2 = nn.Conv2d(35,70,2,padding=1,stride=1)\n",
    "        self.bn2 = nn.BatchNorm2d(70)\n",
    "        self.conv3 = nn.Conv2d(70,140,2,padding=1,stride=1)\n",
    "        self.bn3 = nn.BatchNorm2d(140)\n",
    "        self.fc1 = nn.Linear(140*4*4,32)\n",
    "        self.fc2 = nn.Linear(32,10)\n",
    "        self.dropout = nn.Dropout(0.25)\n",
    "\n",
    "    def forward(self,x):\n",
    "        x = self.pool(torch.relu(self.conv1(x)))\n",
    "        x = self.bn1(x)\n",
    "        x = self.pool(torch.relu(self.conv2(x)))\n",
    "        x = self.bn2(x)\n",
    "        x = self.pool(torch.relu(self.conv3(x)))\n",
    "        x = self.bn3(x)\n",
    "\n",
    "\n",
    "        x= x.view(-1,140*4*4)\n",
    "        x = self.fc1(x)\n",
    "        x = self.dropout(x)\n",
    "       \n",
    "        x = self.fc2(x)\n",
    "        return x"
   ]
  },
  {
   "cell_type": "code",
   "execution_count": 99,
   "metadata": {},
   "outputs": [
    {
     "name": "stdout",
     "output_type": "stream",
     "text": [
      "Epoch: 1/20..  Training Loss: 0.009..  Validation Loss: 0.014.. \n",
      "Training loss:  0.008979227542877197\n",
      "Epoch: 2/20..  Training Loss: 0.007..  Validation Loss: 0.010.. \n",
      "Training loss:  0.007261558771133423\n",
      "Epoch: 3/20..  Training Loss: 0.007..  Validation Loss: 0.008.. \n",
      "Training loss:  0.006598581075668335\n",
      "Epoch: 4/20..  Training Loss: 0.007..  Validation Loss: 0.011.. \n",
      "Training loss:  0.006748371124267578\n",
      "Epoch: 5/20..  Training Loss: 0.008..  Validation Loss: 0.008.. \n",
      "Training loss:  0.007987191677093506\n",
      "Epoch: 6/20..  Training Loss: 0.008..  Validation Loss: 0.008.. \n",
      "Training loss:  0.007840214371681213\n",
      "Epoch: 7/20..  Training Loss: 0.006..  Validation Loss: 0.008.. \n",
      "Training loss:  0.006307717561721802\n",
      "Epoch: 8/20..  Training Loss: 0.006..  Validation Loss: 0.005.. \n",
      "Training loss:  0.005767619609832764\n",
      "Epoch: 9/20..  Training Loss: 0.005..  Validation Loss: 0.010.. \n",
      "Training loss:  0.0046694746613502505\n",
      "Epoch: 10/20..  Training Loss: 0.004..  Validation Loss: 0.011.. \n",
      "Training loss:  0.004199857413768768\n",
      "Epoch: 11/20..  Training Loss: 0.004..  Validation Loss: 0.011.. \n",
      "Training loss:  0.004032135903835297\n",
      "Epoch: 12/20..  Training Loss: 0.005..  Validation Loss: 0.010.. \n",
      "Training loss:  0.00474004864692688\n",
      "Epoch: 13/20..  Training Loss: 0.003..  Validation Loss: 0.009.. \n",
      "Training loss:  0.0031279119849205016\n",
      "Epoch: 14/20..  Training Loss: 0.003..  Validation Loss: 0.007.. \n",
      "Training loss:  0.003498836159706116\n",
      "Epoch: 15/20..  Training Loss: 0.003..  Validation Loss: 0.010.. \n",
      "Training loss:  0.0031919616460800173\n",
      "Epoch: 16/20..  Training Loss: 0.004..  Validation Loss: 0.010.. \n",
      "Training loss:  0.0035563728213310244\n",
      "Epoch: 17/20..  Training Loss: 0.003..  Validation Loss: 0.011.. \n",
      "Training loss:  0.003280225396156311\n",
      "Epoch: 18/20..  Training Loss: 0.004..  Validation Loss: 0.010.. \n",
      "Training loss:  0.004333159923553467\n",
      "Epoch: 19/20..  Training Loss: 0.004..  Validation Loss: 0.010.. \n",
      "Training loss:  0.003653927147388458\n",
      "Epoch: 20/20..  Training Loss: 0.004..  Validation Loss: 0.009.. \n",
      "Training loss:  0.003883586525917053\n"
     ]
    }
   ],
   "source": [
    "model = CNN4()\n",
    "model,losses,iter = train(model,training,validation,learning_rate=0.001,batch_size=100,epochs=20,weight_decay=0.001)\n"
   ]
  },
  {
   "cell_type": "code",
   "execution_count": 112,
   "metadata": {},
   "outputs": [
    {
     "name": "stdout",
     "output_type": "stream",
     "text": [
      "Test accuracy:  tensor(73.4200, device='cuda:0')\n"
     ]
    },
    {
     "data": {
      "image/png": "[encoded data removed]",
      "text/plain": [
       "<Figure size 432x288 with 6 Axes>"
      ]
     },
     "metadata": {
      "needs_background": "light"
     },
     "output_type": "display_data"
    }
   ],
   "source": [
    "#loading optimal model\n",
    "model.load_state_dict(torch.load('model.ckpt'))\n",
    "\n",
    "#get test accuracy\n",
    "acc, cor, fal = get_accuracy(model,test,train=False)\n",
    "\n",
    "print(\"Test accuracy: \",acc)\n",
    "\n",
    "#display 6 misclassified images\n",
    "\n",
    "for i in range(6):\n",
    "    plt.subplot(2,3,i+1)\n",
    "    plt.imshow(fal[i].cpu().permute(1,2,0))\n",
    "    \n",
    "\n"
   ]
  },
  {
   "cell_type": "code",
   "execution_count": 111,
   "metadata": {},
   "outputs": [
    {
     "data": {
      "image/png": "[encoded data removed]",
      "text/plain": [
       "<Figure size 432x288 with 6 Axes>"
      ]
     },
     "metadata": {
      "needs_background": "light"
     },
     "output_type": "display_data"
    }
   ],
   "source": [
    "#display 6 correctly classified images\n",
    "for i in range(6):\n",
    "    plt.subplot(2,3,i+1)\n",
    "    plt.imshow(cor[i].cpu().permute(1,2,0))"
   ]
  }
 ],
 "metadata": {
  "interpreter": {
   "hash": "d9aefc15980085f0d984a09107f14c6da6d8fcfe3bde49de32668b1ca74352a1"
  },
  "kernelspec": {
   "display_name": "Python 3.8.5 64-bit ('base': conda)",
   "language": "python",
   "name": "python3"
  },
  "language_info": {
   "codemirror_mode": {
    "name": "ipython",
    "version": 3
   },
   "file_extension": ".py",
   "mimetype": "text/x-python",
   "name": "python",
   "nbconvert_exporter": "python",
   "pygments_lexer": "ipython3",
   "version": "3.8.5"
  },
  "orig_nbformat": 4
 },
 "nbformat": 4,
 "nbformat_minor": 2
}
