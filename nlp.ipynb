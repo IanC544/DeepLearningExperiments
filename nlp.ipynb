{
 "cells": [
  {
   "cell_type": "code",
   "execution_count": 1,
   "metadata": {},
   "outputs": [
    {
     "name": "stderr",
     "output_type": "stream",
     "text": [
      "c:\\data_projects\\stable-diffusion-webui\\venv\\lib\\site-packages\\tqdm\\auto.py:22: TqdmWarning: IProgress not found. Please update jupyter and ipywidgets. See https://ipywidgets.readthedocs.io/en/stable/user_install.html\n",
      "  from .autonotebook import tqdm as notebook_tqdm\n",
      "Some weights of the model checkpoint at distilbert-base-uncased were not used when initializing DistilBertForSequenceClassification: ['vocab_transform.bias', 'vocab_layer_norm.bias', 'vocab_transform.weight', 'vocab_projector.bias', 'vocab_layer_norm.weight']\n",
      "- This IS expected if you are initializing DistilBertForSequenceClassification from the checkpoint of a model trained on another task or with another architecture (e.g. initializing a BertForSequenceClassification model from a BertForPreTraining model).\n",
      "- This IS NOT expected if you are initializing DistilBertForSequenceClassification from the checkpoint of a model that you expect to be exactly identical (initializing a BertForSequenceClassification model from a BertForSequenceClassification model).\n",
      "Some weights of DistilBertForSequenceClassification were not initialized from the model checkpoint at distilbert-base-uncased and are newly initialized: ['classifier.bias', 'pre_classifier.weight', 'classifier.weight', 'pre_classifier.bias']\n",
      "You should probably TRAIN this model on a down-stream task to be able to use it for predictions and inference.\n"
     ]
    }
   ],
   "source": [
    "from transformers import AutoTokenizer, DistilBertForSequenceClassification\n",
    "import torch\n",
    "import torch.nn as nn\n",
    "from torch.utils.data import DataLoader\n",
    "from transformers import AdamW, get_linear_schedule_with_warmup\n",
    "from accelerate import Accelerator\n",
    "from torch.utils.data import Dataset\n",
    "import pandas as pd\n",
    "from sklearn.model_selection import train_test_split\n",
    "import numpy as np\n",
    "\n"
   ]
  },
  {
   "cell_type": "code",
   "execution_count": 2,
   "metadata": {},
   "outputs": [],
   "source": [
    "\n",
    "\n",
    "class BertClassifier(nn.Module):\n",
    "    def __init__(self, bert_name, num_classes):\n",
    "        super(BertClassifier, self).__init__()\n",
    "        \n",
    "        # Load a pretrained BERT model\n",
    "        self.bert = DistilBertForSequenceClassification.from_pretrained(bert_name)\n",
    "        \n",
    "        # Add a classification layer on top of BERT\n",
    "        self.classifier = nn.Linear(self.bert.config.hidden_size, num_classes)\n",
    "        \n",
    "    def forward(self, inputs):\n",
    "        # Feed the input to BERT\n",
    "        outputs = self.bert(**inputs, output_hidden_states=True)\n",
    "        last_hidden_states = outputs.hidden_states[-1]\n",
    "        logits = self.classifier(last_hidden_states[:,0,:])\n",
    "        \n",
    "        return logits\n"
   ]
  },
  {
   "cell_type": "code",
   "execution_count": 3,
   "metadata": {},
   "outputs": [],
   "source": [
    "\n",
    "df = pd.read_csv('C:\\data_projects\\subjects-questions.csv').sample(20000)\n",
    "train, test = train_test_split(df, test_size=0.3)\n",
    "test, val = train_test_split(test, test_size=0.5)\n",
    "class CustomImageDataset(Dataset):\n",
    "    def __init__(self, data,tokenizer,labels):\n",
    "        self.data = data\n",
    "        self.tokenizer = tokenizer\n",
    "        self.labels = labels\n",
    "\n",
    "\n",
    "    def __len__(self):\n",
    "        return self.data.shape[0]\n",
    "\n",
    "    def __getitem__(self, idx):\n",
    "        label = self.data.iloc[idx, 1]\n",
    "        data = self.data.iloc[idx,0]\n",
    "        label =  torch.zeros(len(self.labels), dtype=torch.float).scatter_(0, torch.tensor(self.labels.index(label)), value=1)\n",
    "\n",
    "        return data, label\n",
    "tokenizer = AutoTokenizer.from_pretrained(\"distilbert-base-uncased\")\n",
    "train_dataset = CustomImageDataset(data = train ,tokenizer=tokenizer,labels =['Biology', 'Chemistry', 'Maths', 'Physics'])\n",
    "val_dataset = CustomImageDataset(data = val ,tokenizer=tokenizer,labels =['Biology', 'Chemistry', 'Maths', 'Physics'])\n",
    "test_dataset = CustomImageDataset(data = test ,tokenizer=tokenizer,labels =['Biology', 'Chemistry', 'Maths', 'Physics'])\n",
    "numcls = train.Subject.value_counts().loc[['Biology', 'Chemistry', 'Maths', 'Physics']].tolist()\n"
   ]
  },
  {
   "cell_type": "code",
   "execution_count": 4,
   "metadata": {},
   "outputs": [
    {
     "data": {
      "text/plain": [
       "tensor([0.2762, 0.1131, 0.1288, 0.1425, 0.1131, 0.1131, 0.1131],\n",
       "       dtype=torch.float64)"
      ]
     },
     "execution_count": 4,
     "metadata": {},
     "output_type": "execute_result"
    }
   ],
   "source": [
    "\n",
    "\n",
    "def class_weight(num_per_class,beta):\n",
    "    effective_num = 1.0 - np.power(beta, num_per_class)\n",
    "    weights = (1.0 - beta) / np.array(effective_num)\n",
    "    weights = weights / np.sum(weights)\n",
    "    return  torch.tensor(weights)\n",
    "class_weight([5,100,20,15,1000,7000,35000],0.9)\n"
   ]
  },
  {
   "cell_type": "code",
   "execution_count": 9,
   "metadata": {},
   "outputs": [
    {
     "name": "stderr",
     "output_type": "stream",
     "text": [
      "Some weights of the model checkpoint at distilbert-base-uncased were not used when initializing DistilBertForSequenceClassification: ['vocab_transform.bias', 'vocab_layer_norm.bias', 'vocab_transform.weight', 'vocab_projector.bias', 'vocab_layer_norm.weight']\n",
      "- This IS expected if you are initializing DistilBertForSequenceClassification from the checkpoint of a model trained on another task or with another architecture (e.g. initializing a BertForSequenceClassification model from a BertForPreTraining model).\n",
      "- This IS NOT expected if you are initializing DistilBertForSequenceClassification from the checkpoint of a model that you expect to be exactly identical (initializing a BertForSequenceClassification model from a BertForSequenceClassification model).\n",
      "Some weights of DistilBertForSequenceClassification were not initialized from the model checkpoint at distilbert-base-uncased and are newly initialized: ['classifier.bias', 'pre_classifier.weight', 'classifier.weight', 'pre_classifier.bias']\n",
      "You should probably TRAIN this model on a down-stream task to be able to use it for predictions and inference.\n"
     ]
    },
    {
     "ename": "KeyboardInterrupt",
     "evalue": "",
     "output_type": "error",
     "traceback": [
      "\u001b[1;31m---------------------------------------------------------------------------\u001b[0m",
      "\u001b[1;31mKeyboardInterrupt\u001b[0m                         Traceback (most recent call last)",
      "\u001b[1;32mc:\\data_projects\\nlp.ipynb Cell 5\u001b[0m in \u001b[0;36m5\n\u001b[0;32m     <a href='vscode-notebook-cell:/c%3A/data_projects/nlp.ipynb#W3sZmlsZQ%3D%3D?line=51'>52</a>\u001b[0m val_dataloader \u001b[39m=\u001b[39m DataLoader(val_dataset, batch_size\u001b[39m=\u001b[39m\u001b[39m16\u001b[39m)\n\u001b[0;32m     <a href='vscode-notebook-cell:/c%3A/data_projects/nlp.ipynb#W3sZmlsZQ%3D%3D?line=52'>53</a>\u001b[0m model\u001b[39m=\u001b[39m BertClassifier(\u001b[39m\"\u001b[39m\u001b[39mdistilbert-base-uncased\u001b[39m\u001b[39m\"\u001b[39m,\u001b[39m4\u001b[39m)\n\u001b[1;32m---> <a href='vscode-notebook-cell:/c%3A/data_projects/nlp.ipynb#W3sZmlsZQ%3D%3D?line=53'>54</a>\u001b[0m train(model, tokenizer,train_dataloader, val_dataloader,\u001b[39m1\u001b[39;49m, \u001b[39m0.00001\u001b[39;49m, \u001b[39m3\u001b[39;49m, \u001b[39m0.9\u001b[39;49m,numcls)\n",
      "\u001b[1;32mc:\\data_projects\\nlp.ipynb Cell 5\u001b[0m in \u001b[0;36m2\n\u001b[0;32m     <a href='vscode-notebook-cell:/c%3A/data_projects/nlp.ipynb#W3sZmlsZQ%3D%3D?line=25'>26</a>\u001b[0m     accelerator\u001b[39m.\u001b[39mbackward(loss)\n\u001b[0;32m     <a href='vscode-notebook-cell:/c%3A/data_projects/nlp.ipynb#W3sZmlsZQ%3D%3D?line=26'>27</a>\u001b[0m     total_loss \u001b[39m+\u001b[39m\u001b[39m=\u001b[39m loss\u001b[39m.\u001b[39mitem()\n\u001b[1;32m---> <a href='vscode-notebook-cell:/c%3A/data_projects/nlp.ipynb#W3sZmlsZQ%3D%3D?line=27'>28</a>\u001b[0m     optimizer\u001b[39m.\u001b[39;49mstep()\n\u001b[0;32m     <a href='vscode-notebook-cell:/c%3A/data_projects/nlp.ipynb#W3sZmlsZQ%3D%3D?line=28'>29</a>\u001b[0m     scheduler\u001b[39m.\u001b[39mstep()\n\u001b[0;32m     <a href='vscode-notebook-cell:/c%3A/data_projects/nlp.ipynb#W3sZmlsZQ%3D%3D?line=29'>30</a>\u001b[0m avg_train_loss \u001b[39m=\u001b[39m total_loss \u001b[39m/\u001b[39m \u001b[39mlen\u001b[39m(train_dataloader)\n",
      "File \u001b[1;32mc:\\data_projects\\stable-diffusion-webui\\venv\\lib\\site-packages\\accelerate\\optimizer.py:136\u001b[0m, in \u001b[0;36mAcceleratedOptimizer.step\u001b[1;34m(self, closure)\u001b[0m\n\u001b[0;32m    134\u001b[0m \u001b[39mself\u001b[39m\u001b[39m.\u001b[39mscaler\u001b[39m.\u001b[39mstep(\u001b[39mself\u001b[39m\u001b[39m.\u001b[39moptimizer, closure)\n\u001b[0;32m    135\u001b[0m \u001b[39mself\u001b[39m\u001b[39m.\u001b[39mscaler\u001b[39m.\u001b[39mupdate()\n\u001b[1;32m--> 136\u001b[0m scale_after \u001b[39m=\u001b[39m \u001b[39mself\u001b[39;49m\u001b[39m.\u001b[39;49mscaler\u001b[39m.\u001b[39;49mget_scale()\n\u001b[0;32m    137\u001b[0m \u001b[39m# If we reduced the loss scale, it means the optimizer step was skipped because of gradient overflow.\u001b[39;00m\n\u001b[0;32m    138\u001b[0m \u001b[39mself\u001b[39m\u001b[39m.\u001b[39m_is_overflow \u001b[39m=\u001b[39m scale_after \u001b[39m<\u001b[39m scale_before\n",
      "File \u001b[1;32mc:\\data_projects\\stable-diffusion-webui\\venv\\lib\\site-packages\\torch\\cuda\\amp\\grad_scaler.py:417\u001b[0m, in \u001b[0;36mGradScaler.get_scale\u001b[1;34m(self)\u001b[0m\n\u001b[0;32m    410\u001b[0m \u001b[39m\"\"\"\u001b[39;00m\n\u001b[0;32m    411\u001b[0m \u001b[39mReturns a Python float containing the current scale, or 1.0 if scaling is disabled.\u001b[39;00m\n\u001b[0;32m    412\u001b[0m \n\u001b[0;32m    413\u001b[0m \u001b[39m.. warning::\u001b[39;00m\n\u001b[0;32m    414\u001b[0m \u001b[39m    :meth:`get_scale` incurs a CPU-GPU sync.\u001b[39;00m\n\u001b[0;32m    415\u001b[0m \u001b[39m\"\"\"\u001b[39;00m\n\u001b[0;32m    416\u001b[0m \u001b[39mif\u001b[39;00m \u001b[39mself\u001b[39m\u001b[39m.\u001b[39m_enabled:\n\u001b[1;32m--> 417\u001b[0m     \u001b[39mreturn\u001b[39;00m \u001b[39mself\u001b[39m\u001b[39m.\u001b[39m_init_scale \u001b[39mif\u001b[39;00m \u001b[39mself\u001b[39m\u001b[39m.\u001b[39m_scale \u001b[39mis\u001b[39;00m \u001b[39mNone\u001b[39;00m \u001b[39melse\u001b[39;00m \u001b[39mself\u001b[39;49m\u001b[39m.\u001b[39;49m_get_scale_async()\u001b[39m.\u001b[39;49mitem()\n\u001b[0;32m    418\u001b[0m \u001b[39melse\u001b[39;00m:\n\u001b[0;32m    419\u001b[0m     \u001b[39mreturn\u001b[39;00m \u001b[39m1.0\u001b[39m\n",
      "\u001b[1;31mKeyboardInterrupt\u001b[0m: "
     ]
    }
   ],
   "source": [
    "\n",
    "\n",
    "\n",
    "def train(model,tokenizer, train_dataloader, val_dataloader, epochs, lr, warmup_steps,beta,num_per_class):\n",
    "    accelerator = Accelerator(mixed_precision=\"fp16\")\n",
    "    device = accelerator.device\n",
    "\n",
    "    \n",
    "    optimizer = AdamW(model.parameters(), lr=lr)\n",
    "    total_steps = len(train_dataloader) * epochs\n",
    "    scheduler = get_linear_schedule_with_warmup(optimizer, num_warmup_steps=warmup_steps, num_training_steps=total_steps)\n",
    "    weight =class_weight(num_per_class,beta)\n",
    "    loss_fn = nn.CrossEntropyLoss(weight=weight)\n",
    "    model, optimizer, train_dataloader, scheduler = accelerator.prepare(\n",
    "    model, optimizer, train_dataloader, scheduler)\n",
    "    model.to(device)\n",
    "    loss_fn.to(device)\n",
    "\n",
    "    for epoch in range(epochs):\n",
    "        model.train()\n",
    "        total_loss = 0\n",
    "        for batch, labels in train_dataloader:\n",
    "            batch= tokenizer(batch, truncation=True, padding=True, return_tensors=\"pt\")\n",
    "            batch = batch.to(device)\n",
    "            labels = labels.to(device)\n",
    "            optimizer.zero_grad()\n",
    "            logits = model(batch)\n",
    "            loss = loss_fn(logits, labels)\n",
    "            accelerator.backward(loss)\n",
    "            total_loss += loss.item()\n",
    "            optimizer.step()\n",
    "            scheduler.step()\n",
    "            \n",
    "        avg_train_loss = total_loss / len(train_dataloader)\n",
    "        print(f\"Epoch {epoch+1} / {epochs}:\")\n",
    "        print(f\"  Training loss: {avg_train_loss:.4f}\")\n",
    "        \n",
    "        model.eval()\n",
    "        total_val_loss = 0\n",
    "        total_val_accuracy = 0\n",
    "        with torch.no_grad():\n",
    "            for batch, labels in val_dataloader:\n",
    "                batch= tokenizer(batch, truncation=True, padding=True, return_tensors=\"pt\")\n",
    "                batch = batch.to(device)\n",
    "                labels = labels.to(device)\n",
    "                logits = model(batch)\n",
    "                loss = loss_fn(logits, labels)\n",
    "                total_val_loss += loss.item()\n",
    "                preds = torch.argmax(logits, dim=1)\n",
    "                total_val_accuracy += torch.sum(preds == labels).item()\n",
    "        avg_val_loss = total_val_loss / len(val_dataloader)\n",
    "        avg_val_accuracy = total_val_accuracy / len(val_dataloader.dataset)\n",
    "        print(f\"  Validation loss: {avg_val_loss:.4f}\")\n",
    "        print(f\"  Validation accuracy: {avg_val_accuracy:.4f}\")\n",
    "train_dataloader = DataLoader(train_dataset, batch_size=5)\n",
    "val_dataloader = DataLoader(val_dataset, batch_size=16)\n",
    "model= BertClassifier(\"distilbert-base-uncased\",4)\n",
    "train(model, tokenizer,train_dataloader, val_dataloader,1, 0.00001, 3, 0.9,numcls)"
   ]
  }
 ],
 "metadata": {
  "kernelspec": {
   "display_name": "venv",
   "language": "python",
   "name": "python3"
  },
  "language_info": {
   "codemirror_mode": {
    "name": "ipython",
    "version": 3
   },
   "file_extension": ".py",
   "mimetype": "text/x-python",
   "name": "python",
   "nbconvert_exporter": "python",
   "pygments_lexer": "ipython3",
   "version": "3.10.6"
  },
  "orig_nbformat": 4,
  "vscode": {
   "interpreter": {
    "hash": "f2dc9e2d8080883941d63bba80e9b99060974effb8ea447ab810bc779dd27b93"
   }
  }
 },
 "nbformat": 4,
 "nbformat_minor": 2
}
